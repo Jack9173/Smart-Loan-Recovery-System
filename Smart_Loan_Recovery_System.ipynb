{
  "nbformat": 4,
  "nbformat_minor": 0,
  "metadata": {
    "colab": {
      "provenance": []
    },
    "kernelspec": {
      "name": "python3",
      "display_name": "Python 3"
    },
    "language_info": {
      "name": "python"
    }
  },
  "cells": [
    {
      "cell_type": "markdown",
      "source": [
        "# ***Smart Loan Recovery System with Machine Learning***"
      ],
      "metadata": {
        "id": "O1Lu5E9HwmjI"
      }
    },
    {
      "cell_type": "code",
      "execution_count": null,
      "metadata": {
        "id": "0L2hc3lvwIE-"
      },
      "outputs": [],
      "source": [
        "import pandas as pd\n",
        "df = pd.read_csv(\"/content/loan-recovery.csv\")\n",
        "print(df.head())"
      ]
    },
    {
      "cell_type": "code",
      "source": [
        "df.describe()\n",
        "df.info()"
      ],
      "metadata": {
        "id": "YxFE1NKEw1FH"
      },
      "execution_count": null,
      "outputs": []
    },
    {
      "cell_type": "markdown",
      "source": [
        "**Analyzing Data Distribution and Relationships:**"
      ],
      "metadata": {
        "id": "GnCSX-HNxUrv"
      }
    },
    {
      "cell_type": "code",
      "source": [
        "import plotly.graph_objects as go\n",
        "import plotly.express as px\n",
        "import pandas as pd\n",
        "\n",
        "\n",
        "fig = px.histogram(df, x='Loan_Amount', nbins=30, marginal=\"violin\", opacity=0.7,\n",
        "                   title=\"Loan Amount Distribution & Relationship with Monthly Income\",\n",
        "                   labels={'Loan_Amount': \"Loan Amount (in $)\", 'Monthly_Income': \"Monthly Income\"},\n",
        "                   color_discrete_sequence=[\"royalblue\"])\n",
        "\n",
        "fig.add_trace(go.Scatter(\n",
        "    x=sorted(df['Loan_Amount']),\n",
        "    y=px.histogram(df, x='Loan_Amount', nbins=30, histnorm='probability density').data[0]['y'],\n",
        "    mode='lines',\n",
        "    name='Density Curve',\n",
        "    line=dict(color='red', width=2)\n",
        "))\n",
        "\n",
        "scatter = px.scatter(df, x='Loan_Amount', y='Monthly_Income',\n",
        "                     color='Loan_Amount', color_continuous_scale='Viridis',\n",
        "                     size=df['Loan_Amount'], hover_name=df.index)\n",
        "\n",
        "for trace in scatter.data:\n",
        "    fig.add_trace(trace)\n",
        "\n",
        "fig.update_layout(\n",
        "    annotations=[\n",
        "        dict(\n",
        "            x=max(df['Loan_Amount']) * 0.8, y=max(df['Monthly_Income']),\n",
        "            text=\"Higher Loan Amounts are linked to Higher Income Levels\",\n",
        "            showarrow=True,\n",
        "            arrowhead=2,\n",
        "            font=dict(size=12, color=\"red\")\n",
        "        )\n",
        "    ],\n",
        "    xaxis_title=\"Loan Amount (in $)\",\n",
        "    yaxis_title=\"Monthly Income (in $)\",\n",
        "    template=\"plotly_white\",\n",
        "    showlegend=True\n",
        ")\n",
        "\n",
        "fig.show()"
      ],
      "metadata": {
        "id": "FKrF_o0Jw57R"
      },
      "execution_count": null,
      "outputs": []
    },
    {
      "cell_type": "markdown",
      "source": [
        "**Analyzing Payment History:**"
      ],
      "metadata": {
        "id": "PeBV22l0xYP2"
      }
    },
    {
      "cell_type": "code",
      "source": [
        "fig = px.histogram(df, x=\"Payment_History\", color=\"Recovery_Status\", barmode=\"group\",\n",
        "                   title=\"How Payment History Affects Loan Recovery Status\",\n",
        "                   labels={\"Payment_History\": \"Payment History\", \"count\": \"Number of Loans\"},\n",
        "                   color_discrete_map={\"Recovered\": \"green\", \"Not Recovered\": \"red\"})\n",
        "\n",
        "fig.update_layout(\n",
        "    xaxis_title=\"Payment History\",\n",
        "    yaxis_title=\"Number of Loans\",\n",
        "    legend_title=\"Recovery Status\",\n",
        "    template=\"plotly_white\",\n",
        "        )\n",
        "\n",
        "fig.show()"
      ],
      "metadata": {
        "id": "TsbA7ICnxKJS"
      },
      "execution_count": null,
      "outputs": []
    },
    {
      "cell_type": "markdown",
      "source": [
        "missed payments in detail by analyzing how missed payments affect loan recovery:"
      ],
      "metadata": {
        "id": "_Os1w7prxniP"
      }
    },
    {
      "cell_type": "code",
      "source": [
        "fig = px.box(df, x=\"Recovery_Status\", y=\"Num_Missed_Payments\",\n",
        "             title=\"How Missed Payments Affect Loan Recovery Status\",\n",
        "             labels={\"Recovery_Status\": \"Recovery Status\", \"Num_Missed_Payments\": \"Number of Missed Payments\"},\n",
        "             color=\"Recovery_Status\",\n",
        "             color_discrete_map={\"Recovered\": \"green\", \"Not Recovered\": \"red\"},\n",
        "             points=\"all\")\n",
        "\n",
        "fig.update_layout(\n",
        "    xaxis_title=\"Recovery Status\",\n",
        "    yaxis_title=\"Number of Missed Payments\",\n",
        "    template=\"plotly_white\"\n",
        ")\n",
        "\n",
        "fig.show()"
      ],
      "metadata": {
        "id": "hAVS28W1xfjw"
      },
      "execution_count": null,
      "outputs": []
    },
    {
      "cell_type": "markdown",
      "source": [
        "**Analyzing Loan Recovery Based on Monthly Income:**"
      ],
      "metadata": {
        "id": "nMO8rvcNxu8-"
      }
    },
    {
      "cell_type": "code",
      "source": [
        "fig = px.scatter(df, x='Monthly_Income', y='Loan_Amount',\n",
        "                 color='Recovery_Status', size='Loan_Amount',\n",
        "                 hover_data={'Monthly_Income': True, 'Loan_Amount': True, 'Recovery_Status': True},\n",
        "                 title=\"How Monthly Income and Loan Amount Affect Loan Recovery\",\n",
        "                 labels={\"Monthly_Income\": \"Monthly Income ($)\", \"Loan_Amount\": \"Loan Amount ($)\"},\n",
        "                 color_discrete_map={\"Recovered\": \"green\", \"Not Recovered\": \"red\"})\n",
        "\n",
        "fig.add_annotation(\n",
        "    x=max(df['Monthly_Income']), y=max(df['Loan_Amount']),\n",
        "    text=\"Higher loans may still get recovered if income is high\",\n",
        "    showarrow=True,\n",
        "    arrowhead=2,\n",
        "    font=dict(size=12, color=\"red\")\n",
        ")\n",
        "\n",
        "fig.update_layout(\n",
        "    xaxis_title=\"Monthly Income ($)\",\n",
        "    yaxis_title=\"Loan Amount ($)\",\n",
        "    template=\"plotly_white\"\n",
        ")\n",
        "\n",
        "fig.show()"
      ],
      "metadata": {
        "id": "Wml3Z_9kxqlP"
      },
      "execution_count": null,
      "outputs": []
    },
    {
      "cell_type": "markdown",
      "source": [
        "Now, using K-Means clustering, I’ll create borrower segments based on monthly income and loan amount:"
      ],
      "metadata": {
        "id": "FPD9ZMe-x7ao"
      }
    },
    {
      "cell_type": "code",
      "source": [
        "from sklearn.cluster import KMeans\n",
        "from sklearn.preprocessing import StandardScaler\n",
        "\n",
        "features = ['Age', 'Monthly_Income', 'Loan_Amount', 'Loan_Tenure', 'Interest_Rate',\n",
        "            'Collateral_Value', 'Outstanding_Loan_Amount', 'Monthly_EMI', 'Num_Missed_Payments', 'Days_Past_Due']\n",
        "\n",
        "scaler = StandardScaler()\n",
        "df_scaled = scaler.fit_transform(df[features])"
      ],
      "metadata": {
        "id": "E7O5Houpx0rJ"
      },
      "execution_count": 8,
      "outputs": []
    },
    {
      "cell_type": "markdown",
      "source": [
        "visualize the segments to understand them in detail:"
      ],
      "metadata": {
        "id": "g6S2jpN9yCY-"
      }
    },
    {
      "cell_type": "code",
      "source": [
        "optimal_k = 4\n",
        "kmeans = KMeans(n_clusters=optimal_k, random_state=42, n_init=10)\n",
        "df['Borrower_Segment'] = kmeans.fit_predict(df_scaled)\n",
        "\n",
        "fig = px.scatter(df, x='Monthly_Income', y='Loan_Amount',\n",
        "                 color=df['Borrower_Segment'].astype(str), size='Loan_Amount',\n",
        "                 hover_data={'Monthly_Income': True, 'Loan_Amount': True, 'Borrower_Segment': True},\n",
        "                 title=\"Borrower Segments Based on Monthly Income and Loan Amount\",\n",
        "                 labels={\"Monthly_Income\": \"Monthly Income ($)\", \"Loan_Amount\": \"Loan Amount ($)\", \"Borrower_Segment\": \"Segment\"},\n",
        "                 color_discrete_sequence=px.colors.qualitative.Vivid)\n",
        "\n",
        "fig.add_annotation(\n",
        "    x=df['Monthly_Income'].mean(), y=df['Loan_Amount'].max(),\n",
        "    text=\"Higher loans are clustered in specific income groups\",\n",
        "    showarrow=True,\n",
        "    arrowhead=2,\n",
        "    font=dict(size=12, color=\"red\")\n",
        ")\n",
        "\n",
        "fig.update_layout(\n",
        "    xaxis_title=\"Monthly Income ($)\",\n",
        "    yaxis_title=\"Loan Amount ($)\",\n",
        "    template=\"plotly_white\",\n",
        "    legend_title=\"Borrower Segment\"\n",
        ")\n",
        "\n",
        "fig.show()"
      ],
      "metadata": {
        "id": "T2MzulY-yAZV"
      },
      "execution_count": null,
      "outputs": []
    },
    {
      "cell_type": "code",
      "source": [
        "# updating segment names\n",
        "df['Segment_Name'] = df['Borrower_Segment'].map({\n",
        "    0: 'Moderate Income, High Loan Burden',\n",
        "    1: 'High Income, Low Default Risk',\n",
        "    2: 'Moderate Income, Medium Risk',\n",
        "    3: 'High Loan, Higher Default Risk'\n",
        "})"
      ],
      "metadata": {
        "id": "6NkvzySmyJmD"
      },
      "execution_count": 10,
      "outputs": []
    },
    {
      "cell_type": "markdown",
      "source": [
        "**Building an Early Detection System for Loan Defaults based on the Risk Scores:**"
      ],
      "metadata": {
        "id": "nzt0iyCnySiW"
      }
    },
    {
      "cell_type": "code",
      "source": [
        "from sklearn.ensemble import RandomForestClassifier\n",
        "from sklearn.model_selection import train_test_split\n",
        "\n",
        "df['High_Risk_Flag'] = df['Segment_Name'].apply(lambda x: 1 if x in ['High Loan, Higher Default Risk', 'Moderate Income, High Loan Burden'] else 0)\n",
        "\n",
        "# selecting features for the model\n",
        "features = ['Age', 'Monthly_Income', 'Loan_Amount', 'Loan_Tenure', 'Interest_Rate',\n",
        "            'Collateral_Value', 'Outstanding_Loan_Amount', 'Monthly_EMI', 'Num_Missed_Payments', 'Days_Past_Due']\n",
        "X = df[features]\n",
        "y = df['High_Risk_Flag']\n",
        "\n",
        "# splitting the data\n",
        "X_train, X_test, y_train, y_test = train_test_split(X, y, test_size=0.2, random_state=42, stratify=y)\n",
        "\n",
        "\n",
        "# training the model\n",
        "rf_model = RandomForestClassifier(n_estimators=100, random_state=42)\n",
        "rf_model.fit(X_train, y_train)\n",
        "\n",
        "# get risk scores (probability of being high risk)\n",
        "risk_scores = rf_model.predict_proba(X_test)[:, 1]  # probability of high risk\n",
        "\n",
        "# add risk scores and flags to test data\n",
        "df_test = X_test.copy()\n",
        "df_test['Risk_Score'] = risk_scores\n",
        "df_test['Predicted_High_Risk'] = (df_test['Risk_Score'] > 0.5).astype(int)  # Threshold at 50% probability\n",
        "\n",
        "# merging with borrower details\n",
        "df_test = df_test.merge(df[['Borrower_ID', 'Segment_Name', 'Recovery_Status', 'Collection_Method', 'Collection_Attempts', 'Legal_Action_Taken']],\n",
        "                        left_index=True, right_index=True)"
      ],
      "metadata": {
        "id": "j2UAr6xwyP9h"
      },
      "execution_count": 11,
      "outputs": []
    },
    {
      "cell_type": "markdown",
      "source": [
        "dynamic recovery strategy based on risk scores:"
      ],
      "metadata": {
        "id": "VyODaf1BydrG"
      }
    },
    {
      "cell_type": "code",
      "source": [
        "def assign_recovery_strategy(risk_score):\n",
        "    if risk_score > 0.75:\n",
        "        return \"Immediate legal notices & aggressive recovery attempts\"\n",
        "    elif 0.50 <= risk_score <= 0.75:\n",
        "        return \"Settlement offers & repayment plans\"\n",
        "    else:\n",
        "        return \"Automated reminders & monitoring\"\n",
        "\n",
        "df_test['Recovery_Strategy'] = df_test['Risk_Score'].apply(assign_recovery_strategy)\n",
        "\n",
        "df_test.head()"
      ],
      "metadata": {
        "id": "lXn7X5KzyZTu"
      },
      "execution_count": null,
      "outputs": []
    },
    {
      "cell_type": "markdown",
      "source": [
        "Here, we defined a function that categorizes borrowers into three recovery approaches:\n",
        "\n",
        "immediate legal action for high-risk borrowers (risk score > 0.75),\n",
        "settlement offers and repayment plans for moderate-risk borrowers (0.50 – 0.75),\n",
        "and automated reminders for low-risk borrowers (<0.50).\n",
        "This function was applied to the test dataset to assign a personalized recovery strategy to each borrower to ensure cost-effective and targeted loan recovery efforts."
      ],
      "metadata": {
        "id": "5yDxSXcqynCm"
      }
    }
  ]
}